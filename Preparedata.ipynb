{
 "cells": [
  {
   "cell_type": "code",
   "execution_count": null,
   "metadata": {},
   "outputs": [],
   "source": [
    "import tensorflow as tf\n",
    "import pandas as pd\n",
    "import newlinejson as nlj\n",
    "from glob import glob\n",
    "from collections import defaultdict\n",
    "import json\n",
    "import os\n",
    "import sys\n",
    "import numpy as np \n",
    "import math\n",
    "%matplotlib inline\n",
    "import matplotlib.pyplot as plot\n",
    "import concurrent.futures\n",
    "import os.path\n",
    "import pickle\n",
    "plt.style.use('seaborn-whitegrid')\n",
    "import pickle\n",
    "import numpy as np \n",
    "import matplotlib.pyplot as plt\n",
    "plt.style.use('seaborn-whitegrid')\n",
    "%matplotlib inline\n",
    "def save_obj(path,obj, name ):\n",
    "    with open(path+ name + '.pkl', 'wb') as f:\n",
    "        pickle.dump(obj, f, pickle.HIGHEST_PROTOCOL)\n",
    "\n",
    "def load_obj(path ,name ):\n",
    "    with open(path + name + '.pkl', 'rb') as f:\n",
    "        return pickle.load(f)"
   ]
  },
  {
   "cell_type": "code",
   "execution_count": 35,
   "metadata": {},
   "outputs": [],
   "source": [
    "#Prepare Matrix of size 27*27 and prepare data\n",
    "from collections import defaultdict\n",
    "\n",
    "def PrepareData(folderpath):\n",
    "    #filespath = os.path.join(folderpath, '*.ndjson')\n",
    "    files = glob(folderpath)\n",
    "    filename= \"sample\"\n",
    "    for file in files: \n",
    "        #filename, file_extension = os.path.splitext(file)\n",
    "        with nlj.open(file) as src:\n",
    "            k=0;\n",
    "            imagedata = defaultdict(list)\n",
    "            for i, line in enumerate(src):\n",
    "                array = np.asarray(line['drawing'])\n",
    "                matrix = np.array([[0 for i in range(27)] for i in range(27)])\n",
    "                if array.ndim == 3: \n",
    "                        for depth in range(array.shape[0]): \n",
    "                            xScaledValues = [round(x*0.1,0) for x in array[depth,0,0:]]\n",
    "                            yScaledValues = [round(y*0.1,0) for y in  array[depth,1,0:]]\n",
    "                            for x,y in zip(xScaledValues, yScaledValues):\n",
    "                                    matrix[int(x),int(y)]=1\n",
    "                elif array.ndim == 2: \n",
    "                        for row in range(array.shape[0]): \n",
    "                            xScaledValues = [round(x*0.1) for x in array[row,0]]\n",
    "                            yScaledValues = [round(y*0.1) for y in  array[row,1]]\n",
    "                            for x,y in zip(xScaledValues, yScaledValues):\n",
    "                                    matrix[int(x),int(y)]=1\n",
    "                k = k+1;\n",
    "                imagedata[line['word']].append(matrix.tolist())\n",
    "                filename = line['word']\n",
    "        save_obj('C:\\\\Data\\\\Batch\\\\Bactch1\\\\Output\\\\',imagedata[line['word']],filename)\n",
    "        \n",
    "        \n",
    "PrepareData(\"C:\\\\Data\\\\Batch\\\\Bactch1\\\\*.ndjson\")"
   ]
  },
  {
   "cell_type": "code",
   "execution_count": null,
   "metadata": {},
   "outputs": [],
   "source": []
  }
 ],
 "metadata": {
  "kernelspec": {
   "display_name": "Python 3",
   "language": "python",
   "name": "python3"
  },
  "language_info": {
   "codemirror_mode": {
    "name": "ipython",
    "version": 3
   },
   "file_extension": ".py",
   "mimetype": "text/x-python",
   "name": "python",
   "nbconvert_exporter": "python",
   "pygments_lexer": "ipython3",
   "version": "3.7.3"
  }
 },
 "nbformat": 4,
 "nbformat_minor": 2
}
